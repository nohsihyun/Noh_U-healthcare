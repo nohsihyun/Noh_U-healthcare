{
  "nbformat": 4,
  "nbformat_minor": 0,
  "metadata": {
    "colab": {
      "provenance": [],
      "authorship_tag": "ABX9TyMECm99JTEa4N2wrzwUp3SG",
      "include_colab_link": true
    },
    "kernelspec": {
      "name": "python3",
      "display_name": "Python 3"
    },
    "language_info": {
      "name": "python"
    }
  },
  "cells": [
    {
      "cell_type": "markdown",
      "metadata": {
        "id": "view-in-github",
        "colab_type": "text"
      },
      "source": [
        "<a href=\"https://colab.research.google.com/github/nohsihyun/Noh_U-healthcare/blob/main/%EB%85%B8%EC%8B%9C%ED%98%84_U_Healthcare_service.ipynb\" target=\"_parent\"><img src=\"https://colab.research.google.com/assets/colab-badge.svg\" alt=\"Open In Colab\"/></a>"
      ]
    },
    {
      "cell_type": "code",
      "execution_count": 5,
      "metadata": {
        "colab": {
          "base_uri": "https://localhost:8080/"
        },
        "id": "rjrGkfIYT6L_",
        "outputId": "d85e7e0f-9192-47ef-fb77-8e30165a259f"
      },
      "outputs": [
        {
          "output_type": "stream",
          "name": "stdout",
          "text": [
            "수치를 입력하시오 : 80/120/70\n",
            "입력하신 수치는 [80/120/70] 입니다 -> 암호화를 진행하겠습니다.\n",
            "암호화된 수치 : \\TSUVTS[T\n",
            "암호화된 수치를 복호화하겠습니다.\n",
            "복호화된 수치 : 80/120/70\n"
          ]
        }
      ],
      "source": [
        "import time\n",
        "import math\n",
        "Z = input(\"수치를 입력하시오 : \")\n",
        "Z_s = \"\"\n",
        "Z2 = \"\"\n",
        "print(\"입력하신 수치는 [%s] 입니다 -> 암호화를 진행하겠습니다.\" %Z)\n",
        "c = ''\n",
        "ac = 0\n",
        "y = time.time()\n",
        "z = math.ceil(y)\n",
        "A = math.floor(z/1000000000)\n",
        "B = math.floor(z/100000000) - 10*A\n",
        "C = math.floor(z/10000000) - 10*B - 100*A\n",
        "D = math.floor(z/1000000) - 10*C - 100*B - 1000*A\n",
        "E = math.floor(z/100000) - 10*D - 100*C - 1000*B - 10000*A\n",
        "F = math.floor(z/10000) - 10*E - 100*D - 1000*C - 10000*B - 100000*A\n",
        "G = math.floor(z/1000) - 10*F - 100*E - 1000*D - 10000*C - 100000*B - 1000000*A\n",
        "H = math.floor(z/100) - 10*G - 100*F - 1000*E - 10000*D - 100000*C - 1000000*B - 10000000*A\n",
        "I = math.floor(z/10) - 10*H - 100*G - 1000*F - 10000*E - 100000*D - 1000000*C - 10000000*B - 100000000*A\n",
        "J = z - 10*I - 100*H - 1000*G - 10000*F - 100000*E - 1000000*D - 10000000*C - 100000000*B - 1000000000*A\n",
        "T = A + B + C + D + E + F + G + H + I + J\n",
        "for i in range(len(Z)) :\n",
        "    c = Z[i]\n",
        "    ac =ord(c)\n",
        "    ac += T\n",
        "    c = chr(ac)\n",
        "    Z_s += c\n",
        "\n",
        "print(\"암호화된 수치 : %s\" %Z_s)\n",
        "print(\"암호화된 수치를 복호화하겠습니다.\")\n",
        "for i in range(len(Z_s)) :\n",
        "    c = Z_s[i]\n",
        "    ac =ord(c)\n",
        "    ac -= T\n",
        "    c = chr(ac)\n",
        "    Z2 += c\n",
        "\n",
        "if Z==Z2 :\n",
        "    print(\"복호화된 수치 : %s\" % Z2)"
      ]
    },
    {
      "cell_type": "code",
      "source": [
        "import time\n",
        "import math\n",
        "Z = input(\"수치를 입력하시오 : \")\n",
        "Z_s = \"\"\n",
        "Z2 = \"\"\n",
        "print(\"입력하신 수치는 [%s] 입니다 -> 암호화를 진행하겠습니다.\" %Z)\n",
        "c = ''\n",
        "ac = 0\n",
        "y = time.time()\n",
        "z = math.ceil(y)\n",
        "A = math.floor(z/1000000000)\n",
        "B = math.floor(z/100000000) - 10*A\n",
        "C = math.floor(z/10000000) - 10*B - 100*A\n",
        "D = math.floor(z/1000000) - 10*C - 100*B - 1000*A\n",
        "E = math.floor(z/100000) - 10*D - 100*C - 1000*B - 10000*A\n",
        "F = math.floor(z/10000) - 10*E - 100*D - 1000*C - 10000*B - 100000*A\n",
        "G = math.floor(z/1000) - 10*F - 100*E - 1000*D - 10000*C - 100000*B - 1000000*A\n",
        "H = math.floor(z/100) - 10*G - 100*F - 1000*E - 10000*D - 100000*C - 1000000*B - 10000000*A\n",
        "I = math.floor(z/10) - 10*H - 100*G - 1000*F - 10000*E - 100000*D - 1000000*C - 10000000*B - 100000000*A\n",
        "J = z - 10*I - 100*H - 1000*G - 10000*F - 100000*E - 1000000*D - 10000000*C - 100000000*B - 1000000000*A\n",
        "T = A + B + C + D + E + F + G + H + I + J\n",
        "for i in range(len(Z)) :\n",
        "    c = Z[i]\n",
        "    ac =ord(c)\n",
        "    ac += T\n",
        "    c = chr(ac)\n",
        "    Z_s += c\n",
        "\n",
        "print(\"암호화된 수치 : %s\" %Z_s)\n",
        "print(\"암호화된 수치를 복호화하겠습니다.\")\n",
        "for i in range(len(Z_s)) :\n",
        "    c = Z_s[i]\n",
        "    ac =ord(c)\n",
        "    ac -= T\n",
        "    c = chr(ac)\n",
        "    Z2 += c\n",
        "\n",
        "if Z==Z2 :\n",
        "    print(\"복호화된 수치 : %s\" % Z2)"
      ],
      "metadata": {
        "colab": {
          "base_uri": "https://localhost:8080/"
        },
        "id": "uj90ZVzgVdpN",
        "outputId": "817d2d4f-e32f-4427-c975-9933b378a889"
      },
      "execution_count": 6,
      "outputs": [
        {
          "output_type": "stream",
          "name": "stdout",
          "text": [
            "수치를 입력하시오 : 80/120/70\n",
            "입력하신 수치는 [80/120/70] 입니다 -> 암호화를 진행하겠습니다.\n",
            "암호화된 수치 : XPOQRPOWP\n",
            "암호화된 수치를 복호화하겠습니다.\n",
            "복호화된 수치 : 80/120/70\n"
          ]
        }
      ]
    },
    {
      "cell_type": "markdown",
      "source": [
        "**입력된 수치가 같아도 시간의 흐름에 따라 암호화된 수치가 바뀌는 것을 볼 수 있습니다.**"
      ],
      "metadata": {
        "id": "zYtipZpUVvLF"
      }
    }
  ]
}